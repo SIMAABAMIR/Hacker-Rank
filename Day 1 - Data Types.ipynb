{
 "cells": [
  {
   "cell_type": "markdown",
   "metadata": {
    "collapsed": true
   },
   "source": [
    "*** Simaab Amir\n",
    "\n",
    "# Task\n",
    "* Complete the code in the editor below. The variables i, d, and s, are already declared and initialized for you. You must:\n",
    "\n",
    "    Declare variables: one of type int, one of type double, and one of type String.\n",
    "    Read lines of input from stdin (according to the sequence given in the Input Format section below) and initialize your variables.\n",
    "    Use the operator to perform the following operations:\n",
    "        Print the sum of plus your int variable on a new line.\n",
    "        Print the sum of plus your double variable to a scale of one decimal place on a new line.\n",
    "        Concatenate with the string you read as input and print the result on a new line. \n"
   ]
  },
  {
   "cell_type": "markdown",
   "metadata": {},
   "source": [
    "# Input Format\n",
    "\n",
    "The first line contains an integer that you must sum with .\n",
    "The second line contains a double that you must sum with .\n",
    "The third line contains a string that you must concatenate with ."
   ]
  },
  {
   "cell_type": "markdown",
   "metadata": {},
   "source": [
    "# Output Format\n",
    "\n",
    "Print the sum of both integers on the first line, the sum of both doubles (scaled to decimal place) on the second line, and then the two concatenated strings on the third line."
   ]
  },
  {
   "cell_type": "markdown",
   "metadata": {},
   "source": [
    "* Sample Input\n",
    "\n",
    "12\n",
    "4.0\n",
    "is the best place to learn and practice coding!\n",
    "\n",
    "* Sample Output\n",
    "\n",
    "16\n",
    "8.0\n",
    "HackerRank is the best place to learn and practice coding!\n",
    "\n",
    "* Explanation\n",
    "\n",
    "When we sum the integers and , we get the integer .\n",
    "When we sum the floating-point numbers and , we get .\n",
    "When we concatenate HackerRank with is the best place to learn and practice coding!, we get HackerRank is the best place to learn and practice coding!."
   ]
  },
  {
   "cell_type": "code",
   "execution_count": 3,
   "metadata": {},
   "outputs": [
    {
     "name": "stdout",
     "output_type": "stream",
     "text": [
      "2\n",
      "5.9\n",
      "is the place where i started new course\n",
      "6\n",
      "9.9\n",
      "HackerRank is the place where i started new course\n"
     ]
    }
   ],
   "source": [
    "\n",
    "#pre-defined variables i,d,s\n",
    "i = 4\n",
    "d = 4.0\n",
    "s = 'HackerRank '\n",
    "# Declare second integer, double, and String variables.\n",
    "a= 0\n",
    "b= 0.0\n",
    "c=\"\"\n",
    "# Read and save an integer, double, and String to your variables.\n",
    "a +=int(input())\n",
    "b +=float(input())\n",
    "c +=str(input())\n",
    "# Print the sum of both integer variables on a new line.\n",
    "print(i + a)\n",
    "# Print the sum of the double variables on a new line.\n",
    "print(d +b)\n",
    "# Concatenate and print the String variables on a new line\n",
    "print(s + c)\n",
    "# The 's' variable above should be printed first."
   ]
  },
  {
   "cell_type": "code",
   "execution_count": null,
   "metadata": {
    "collapsed": true
   },
   "outputs": [],
   "source": []
  }
 ],
 "metadata": {
  "kernelspec": {
   "display_name": "Python 3",
   "language": "python",
   "name": "python3"
  },
  "language_info": {
   "codemirror_mode": {
    "name": "ipython",
    "version": 3
   },
   "file_extension": ".py",
   "mimetype": "text/x-python",
   "name": "python",
   "nbconvert_exporter": "python",
   "pygments_lexer": "ipython3",
   "version": "3.6.3"
  }
 },
 "nbformat": 4,
 "nbformat_minor": 2
}
